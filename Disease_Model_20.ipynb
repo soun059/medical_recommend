{
 "cells": [
  {
   "cell_type": "markdown",
   "metadata": {
    "colab_type": "text",
    "id": "ZPDFX5h7fhlp"
   },
   "source": [
    "# Extracting Data"
   ]
  },
  {
   "cell_type": "code",
   "execution_count": 1,
   "metadata": {
    "colab": {
     "base_uri": "https://localhost:8080/",
     "height": 35
    },
    "colab_type": "code",
    "id": "VD5T-CrJVtNk",
    "outputId": "997efa8a-f180-4940-83f3-76f324ca18f6"
   },
   "outputs": [
    {
     "data": {
      "text/plain": [
       "20"
      ]
     },
     "execution_count": 1,
     "metadata": {},
     "output_type": "execute_result"
    }
   ],
   "source": [
    "#diaeases to be found\n",
    "diseases = ['depression mental', 'anemia', 'pneumothorax', 'migraine disorders', 'HIV', 'pancreatitis', 'arthritis', 'Alzheimer\\'s disease', 'hepatitis C', 'dehydration', 'coronary heart disease', 'personality disorder', 'respiratory failure', 'infection', 'failure kidney', 'asthma', 'diabetes', 'hernia', 'hepatitis B', 'pneumonia' ]\n",
    "len(diseases)"
   ]
  },
  {
   "cell_type": "code",
   "execution_count": 6,
   "metadata": {
    "colab": {},
    "colab_type": "code",
    "id": "nULj0Km0XjUr"
   },
   "outputs": [],
   "source": [
    "#url = \"https://raw.githubusercontent.com/soun059/medical_recommend/master/dataset.csv\""
   ]
  },
  {
   "cell_type": "code",
   "execution_count": 7,
   "metadata": {
    "colab": {},
    "colab_type": "code",
    "id": "dty52iD-XoNj"
   },
   "outputs": [],
   "source": [
    "import pandas as pd\n",
    "import sklearn"
   ]
  },
  {
   "cell_type": "code",
   "execution_count": 9,
   "metadata": {
    "colab": {
     "base_uri": "https://localhost:8080/",
     "height": 202
    },
    "colab_type": "code",
    "id": "qRYOy2BPXrGA",
    "outputId": "97908072-9c98-43fd-cd38-caede3534789"
   },
   "outputs": [
    {
     "data": {
      "text/html": [
       "<div>\n",
       "<style scoped>\n",
       "    .dataframe tbody tr th:only-of-type {\n",
       "        vertical-align: middle;\n",
       "    }\n",
       "\n",
       "    .dataframe tbody tr th {\n",
       "        vertical-align: top;\n",
       "    }\n",
       "\n",
       "    .dataframe thead th {\n",
       "        text-align: right;\n",
       "    }\n",
       "</style>\n",
       "<table border=\"1\" class=\"dataframe\">\n",
       "  <thead>\n",
       "    <tr style=\"text-align: right;\">\n",
       "      <th></th>\n",
       "      <th>Source</th>\n",
       "      <th>Target</th>\n",
       "      <th>Weight</th>\n",
       "    </tr>\n",
       "  </thead>\n",
       "  <tbody>\n",
       "    <tr>\n",
       "      <th>0</th>\n",
       "      <td>depression mental</td>\n",
       "      <td>feeling suicidal</td>\n",
       "      <td>1337</td>\n",
       "    </tr>\n",
       "    <tr>\n",
       "      <th>1</th>\n",
       "      <td>depression mental</td>\n",
       "      <td>suicidal</td>\n",
       "      <td>1337</td>\n",
       "    </tr>\n",
       "    <tr>\n",
       "      <th>2</th>\n",
       "      <td>depression mental</td>\n",
       "      <td>hallucinations auditory</td>\n",
       "      <td>1337</td>\n",
       "    </tr>\n",
       "    <tr>\n",
       "      <th>3</th>\n",
       "      <td>depression mental</td>\n",
       "      <td>feeling hopeless</td>\n",
       "      <td>1337</td>\n",
       "    </tr>\n",
       "    <tr>\n",
       "      <th>4</th>\n",
       "      <td>depression mental</td>\n",
       "      <td>weepiness</td>\n",
       "      <td>1337</td>\n",
       "    </tr>\n",
       "  </tbody>\n",
       "</table>\n",
       "</div>"
      ],
      "text/plain": [
       "              Source                   Target  Weight\n",
       "0  depression mental         feeling suicidal    1337\n",
       "1  depression mental                 suicidal    1337\n",
       "2  depression mental  hallucinations auditory    1337\n",
       "3  depression mental         feeling hopeless    1337\n",
       "4  depression mental                weepiness    1337"
      ]
     },
     "execution_count": 9,
     "metadata": {},
     "output_type": "execute_result"
    }
   ],
   "source": [
    "dataset_all = pd.read_csv('dataset.csv')  #provide url for newer datasets\n",
    "#dataset_all = dataset.dropna()\n",
    "dataset_all.head()"
   ]
  },
  {
   "cell_type": "code",
   "execution_count": 10,
   "metadata": {
    "colab": {},
    "colab_type": "code",
    "id": "kxiBvXxeX0eI"
   },
   "outputs": [],
   "source": [
    "dataset = pd.DataFrame()\n",
    "for disease in diseases:\n",
    "  dataset = pd.concat([dataset,dataset_all[dataset_all['Source'] == disease]])"
   ]
  },
  {
   "cell_type": "code",
   "execution_count": 11,
   "metadata": {
    "colab": {
     "base_uri": "https://localhost:8080/",
     "height": 35
    },
    "colab_type": "code",
    "id": "YQJ4hp3UYNdA",
    "outputId": "5f59095d-766d-4f1f-ff49-464f42ed2797"
   },
   "outputs": [
    {
     "data": {
      "text/plain": [
       "(20, 20)"
      ]
     },
     "execution_count": 11,
     "metadata": {},
     "output_type": "execute_result"
    }
   ],
   "source": [
    "len(diseases),len(dataset['Source'].unique())"
   ]
  },
  {
   "cell_type": "markdown",
   "metadata": {
    "colab_type": "text",
    "id": "Qy6sLY3vfc8t"
   },
   "source": [
    "# Preprocessing of Data"
   ]
  },
  {
   "cell_type": "code",
   "execution_count": 16,
   "metadata": {
    "colab": {
     "base_uri": "https://localhost:8080/",
     "height": 35
    },
    "colab_type": "code",
    "id": "4jdvdT59YqB6",
    "outputId": "40d681f8-9266-4cc8-964d-1b4f14920048"
   },
   "outputs": [
    {
     "data": {
      "text/plain": [
       "272"
      ]
     },
     "execution_count": 16,
     "metadata": {},
     "output_type": "execute_result"
    }
   ],
   "source": [
    "inputs = pd.get_dummies(dataset.Target)\n",
    "dataset_pre = pd.concat([dataset['Source'],inputs],axis=1)\n",
    "dataset_pre.drop_duplicates(inplace=True,keep='first')\n",
    "len(dataset_pre)"
   ]
  },
  {
   "cell_type": "code",
   "execution_count": 17,
   "metadata": {
    "colab": {
     "base_uri": "https://localhost:8080/",
     "height": 867
    },
    "colab_type": "code",
    "id": "zn938mutZEZB",
    "outputId": "d1aa519e-e31d-4056-c7b3-0fba129f689b"
   },
   "outputs": [
    {
     "data": {
      "text/html": [
       "<div>\n",
       "<style scoped>\n",
       "    .dataframe tbody tr th:only-of-type {\n",
       "        vertical-align: middle;\n",
       "    }\n",
       "\n",
       "    .dataframe tbody tr th {\n",
       "        vertical-align: top;\n",
       "    }\n",
       "\n",
       "    .dataframe thead th {\n",
       "        text-align: right;\n",
       "    }\n",
       "</style>\n",
       "<table border=\"1\" class=\"dataframe\">\n",
       "  <thead>\n",
       "    <tr style=\"text-align: right;\">\n",
       "      <th></th>\n",
       "      <th>Source</th>\n",
       "      <th>abdominal tenderness</th>\n",
       "      <th>abscess bacterial</th>\n",
       "      <th>ache</th>\n",
       "      <th>agitation</th>\n",
       "      <th>ambidexterity</th>\n",
       "      <th>angina pectoris</th>\n",
       "      <th>anorexia</th>\n",
       "      <th>apyrexial</th>\n",
       "      <th>arthralgia</th>\n",
       "      <th>...</th>\n",
       "      <th>unresponsiveness</th>\n",
       "      <th>unwell</th>\n",
       "      <th>verbal auditory hallucinations</th>\n",
       "      <th>vertigo</th>\n",
       "      <th>vomiting</th>\n",
       "      <th>weepiness</th>\n",
       "      <th>wheelchair bound</th>\n",
       "      <th>wheezing</th>\n",
       "      <th>worry</th>\n",
       "      <th>yellow sputum</th>\n",
       "    </tr>\n",
       "  </thead>\n",
       "  <tbody>\n",
       "    <tr>\n",
       "      <th>0</th>\n",
       "      <td>Alzheimer's disease</td>\n",
       "      <td>0</td>\n",
       "      <td>0</td>\n",
       "      <td>0</td>\n",
       "      <td>1</td>\n",
       "      <td>0</td>\n",
       "      <td>0</td>\n",
       "      <td>0</td>\n",
       "      <td>0</td>\n",
       "      <td>0</td>\n",
       "      <td>...</td>\n",
       "      <td>0</td>\n",
       "      <td>0</td>\n",
       "      <td>0</td>\n",
       "      <td>0</td>\n",
       "      <td>0</td>\n",
       "      <td>0</td>\n",
       "      <td>1</td>\n",
       "      <td>0</td>\n",
       "      <td>0</td>\n",
       "      <td>0</td>\n",
       "    </tr>\n",
       "    <tr>\n",
       "      <th>1</th>\n",
       "      <td>HIV</td>\n",
       "      <td>0</td>\n",
       "      <td>0</td>\n",
       "      <td>0</td>\n",
       "      <td>0</td>\n",
       "      <td>0</td>\n",
       "      <td>0</td>\n",
       "      <td>0</td>\n",
       "      <td>0</td>\n",
       "      <td>0</td>\n",
       "      <td>...</td>\n",
       "      <td>0</td>\n",
       "      <td>0</td>\n",
       "      <td>0</td>\n",
       "      <td>0</td>\n",
       "      <td>0</td>\n",
       "      <td>0</td>\n",
       "      <td>0</td>\n",
       "      <td>0</td>\n",
       "      <td>0</td>\n",
       "      <td>0</td>\n",
       "    </tr>\n",
       "    <tr>\n",
       "      <th>2</th>\n",
       "      <td>anemia</td>\n",
       "      <td>0</td>\n",
       "      <td>0</td>\n",
       "      <td>0</td>\n",
       "      <td>0</td>\n",
       "      <td>0</td>\n",
       "      <td>0</td>\n",
       "      <td>0</td>\n",
       "      <td>0</td>\n",
       "      <td>1</td>\n",
       "      <td>...</td>\n",
       "      <td>0</td>\n",
       "      <td>0</td>\n",
       "      <td>0</td>\n",
       "      <td>0</td>\n",
       "      <td>0</td>\n",
       "      <td>0</td>\n",
       "      <td>0</td>\n",
       "      <td>0</td>\n",
       "      <td>0</td>\n",
       "      <td>0</td>\n",
       "    </tr>\n",
       "    <tr>\n",
       "      <th>3</th>\n",
       "      <td>arthritis</td>\n",
       "      <td>0</td>\n",
       "      <td>0</td>\n",
       "      <td>0</td>\n",
       "      <td>0</td>\n",
       "      <td>0</td>\n",
       "      <td>0</td>\n",
       "      <td>0</td>\n",
       "      <td>0</td>\n",
       "      <td>0</td>\n",
       "      <td>...</td>\n",
       "      <td>0</td>\n",
       "      <td>0</td>\n",
       "      <td>0</td>\n",
       "      <td>0</td>\n",
       "      <td>0</td>\n",
       "      <td>0</td>\n",
       "      <td>0</td>\n",
       "      <td>0</td>\n",
       "      <td>0</td>\n",
       "      <td>0</td>\n",
       "    </tr>\n",
       "    <tr>\n",
       "      <th>4</th>\n",
       "      <td>asthma</td>\n",
       "      <td>0</td>\n",
       "      <td>0</td>\n",
       "      <td>0</td>\n",
       "      <td>0</td>\n",
       "      <td>0</td>\n",
       "      <td>0</td>\n",
       "      <td>0</td>\n",
       "      <td>0</td>\n",
       "      <td>0</td>\n",
       "      <td>...</td>\n",
       "      <td>0</td>\n",
       "      <td>0</td>\n",
       "      <td>0</td>\n",
       "      <td>0</td>\n",
       "      <td>0</td>\n",
       "      <td>0</td>\n",
       "      <td>0</td>\n",
       "      <td>1</td>\n",
       "      <td>0</td>\n",
       "      <td>0</td>\n",
       "    </tr>\n",
       "    <tr>\n",
       "      <th>5</th>\n",
       "      <td>coronary heart disease</td>\n",
       "      <td>0</td>\n",
       "      <td>0</td>\n",
       "      <td>0</td>\n",
       "      <td>0</td>\n",
       "      <td>0</td>\n",
       "      <td>1</td>\n",
       "      <td>0</td>\n",
       "      <td>0</td>\n",
       "      <td>0</td>\n",
       "      <td>...</td>\n",
       "      <td>0</td>\n",
       "      <td>0</td>\n",
       "      <td>0</td>\n",
       "      <td>0</td>\n",
       "      <td>0</td>\n",
       "      <td>0</td>\n",
       "      <td>0</td>\n",
       "      <td>0</td>\n",
       "      <td>0</td>\n",
       "      <td>0</td>\n",
       "    </tr>\n",
       "    <tr>\n",
       "      <th>6</th>\n",
       "      <td>dehydration</td>\n",
       "      <td>0</td>\n",
       "      <td>0</td>\n",
       "      <td>0</td>\n",
       "      <td>0</td>\n",
       "      <td>0</td>\n",
       "      <td>0</td>\n",
       "      <td>1</td>\n",
       "      <td>0</td>\n",
       "      <td>0</td>\n",
       "      <td>...</td>\n",
       "      <td>0</td>\n",
       "      <td>1</td>\n",
       "      <td>0</td>\n",
       "      <td>0</td>\n",
       "      <td>1</td>\n",
       "      <td>0</td>\n",
       "      <td>0</td>\n",
       "      <td>0</td>\n",
       "      <td>0</td>\n",
       "      <td>0</td>\n",
       "    </tr>\n",
       "    <tr>\n",
       "      <th>7</th>\n",
       "      <td>depression mental</td>\n",
       "      <td>0</td>\n",
       "      <td>0</td>\n",
       "      <td>0</td>\n",
       "      <td>1</td>\n",
       "      <td>0</td>\n",
       "      <td>0</td>\n",
       "      <td>0</td>\n",
       "      <td>0</td>\n",
       "      <td>0</td>\n",
       "      <td>...</td>\n",
       "      <td>0</td>\n",
       "      <td>0</td>\n",
       "      <td>1</td>\n",
       "      <td>0</td>\n",
       "      <td>0</td>\n",
       "      <td>1</td>\n",
       "      <td>0</td>\n",
       "      <td>0</td>\n",
       "      <td>1</td>\n",
       "      <td>0</td>\n",
       "    </tr>\n",
       "    <tr>\n",
       "      <th>8</th>\n",
       "      <td>diabetes</td>\n",
       "      <td>0</td>\n",
       "      <td>0</td>\n",
       "      <td>0</td>\n",
       "      <td>0</td>\n",
       "      <td>0</td>\n",
       "      <td>0</td>\n",
       "      <td>0</td>\n",
       "      <td>0</td>\n",
       "      <td>0</td>\n",
       "      <td>...</td>\n",
       "      <td>1</td>\n",
       "      <td>0</td>\n",
       "      <td>0</td>\n",
       "      <td>1</td>\n",
       "      <td>1</td>\n",
       "      <td>0</td>\n",
       "      <td>0</td>\n",
       "      <td>0</td>\n",
       "      <td>0</td>\n",
       "      <td>0</td>\n",
       "    </tr>\n",
       "    <tr>\n",
       "      <th>9</th>\n",
       "      <td>failure kidney</td>\n",
       "      <td>0</td>\n",
       "      <td>0</td>\n",
       "      <td>0</td>\n",
       "      <td>0</td>\n",
       "      <td>0</td>\n",
       "      <td>0</td>\n",
       "      <td>0</td>\n",
       "      <td>0</td>\n",
       "      <td>0</td>\n",
       "      <td>...</td>\n",
       "      <td>1</td>\n",
       "      <td>0</td>\n",
       "      <td>0</td>\n",
       "      <td>0</td>\n",
       "      <td>0</td>\n",
       "      <td>0</td>\n",
       "      <td>0</td>\n",
       "      <td>0</td>\n",
       "      <td>0</td>\n",
       "      <td>0</td>\n",
       "    </tr>\n",
       "    <tr>\n",
       "      <th>10</th>\n",
       "      <td>hepatitis B</td>\n",
       "      <td>1</td>\n",
       "      <td>0</td>\n",
       "      <td>0</td>\n",
       "      <td>0</td>\n",
       "      <td>0</td>\n",
       "      <td>0</td>\n",
       "      <td>0</td>\n",
       "      <td>0</td>\n",
       "      <td>0</td>\n",
       "      <td>...</td>\n",
       "      <td>0</td>\n",
       "      <td>0</td>\n",
       "      <td>0</td>\n",
       "      <td>0</td>\n",
       "      <td>0</td>\n",
       "      <td>0</td>\n",
       "      <td>1</td>\n",
       "      <td>0</td>\n",
       "      <td>0</td>\n",
       "      <td>1</td>\n",
       "    </tr>\n",
       "    <tr>\n",
       "      <th>11</th>\n",
       "      <td>hepatitis C</td>\n",
       "      <td>0</td>\n",
       "      <td>0</td>\n",
       "      <td>1</td>\n",
       "      <td>0</td>\n",
       "      <td>0</td>\n",
       "      <td>0</td>\n",
       "      <td>0</td>\n",
       "      <td>0</td>\n",
       "      <td>0</td>\n",
       "      <td>...</td>\n",
       "      <td>0</td>\n",
       "      <td>0</td>\n",
       "      <td>0</td>\n",
       "      <td>0</td>\n",
       "      <td>0</td>\n",
       "      <td>0</td>\n",
       "      <td>0</td>\n",
       "      <td>0</td>\n",
       "      <td>0</td>\n",
       "      <td>0</td>\n",
       "    </tr>\n",
       "    <tr>\n",
       "      <th>12</th>\n",
       "      <td>hernia</td>\n",
       "      <td>0</td>\n",
       "      <td>0</td>\n",
       "      <td>0</td>\n",
       "      <td>0</td>\n",
       "      <td>0</td>\n",
       "      <td>0</td>\n",
       "      <td>0</td>\n",
       "      <td>1</td>\n",
       "      <td>0</td>\n",
       "      <td>...</td>\n",
       "      <td>0</td>\n",
       "      <td>0</td>\n",
       "      <td>0</td>\n",
       "      <td>0</td>\n",
       "      <td>0</td>\n",
       "      <td>0</td>\n",
       "      <td>0</td>\n",
       "      <td>0</td>\n",
       "      <td>0</td>\n",
       "      <td>0</td>\n",
       "    </tr>\n",
       "    <tr>\n",
       "      <th>13</th>\n",
       "      <td>infection</td>\n",
       "      <td>0</td>\n",
       "      <td>1</td>\n",
       "      <td>0</td>\n",
       "      <td>0</td>\n",
       "      <td>0</td>\n",
       "      <td>0</td>\n",
       "      <td>0</td>\n",
       "      <td>1</td>\n",
       "      <td>0</td>\n",
       "      <td>...</td>\n",
       "      <td>0</td>\n",
       "      <td>0</td>\n",
       "      <td>0</td>\n",
       "      <td>0</td>\n",
       "      <td>0</td>\n",
       "      <td>0</td>\n",
       "      <td>0</td>\n",
       "      <td>0</td>\n",
       "      <td>0</td>\n",
       "      <td>0</td>\n",
       "    </tr>\n",
       "    <tr>\n",
       "      <th>14</th>\n",
       "      <td>migraine disorders</td>\n",
       "      <td>0</td>\n",
       "      <td>0</td>\n",
       "      <td>0</td>\n",
       "      <td>0</td>\n",
       "      <td>1</td>\n",
       "      <td>0</td>\n",
       "      <td>0</td>\n",
       "      <td>0</td>\n",
       "      <td>0</td>\n",
       "      <td>...</td>\n",
       "      <td>0</td>\n",
       "      <td>0</td>\n",
       "      <td>0</td>\n",
       "      <td>0</td>\n",
       "      <td>1</td>\n",
       "      <td>0</td>\n",
       "      <td>0</td>\n",
       "      <td>0</td>\n",
       "      <td>0</td>\n",
       "      <td>0</td>\n",
       "    </tr>\n",
       "    <tr>\n",
       "      <th>15</th>\n",
       "      <td>pancreatitis</td>\n",
       "      <td>0</td>\n",
       "      <td>0</td>\n",
       "      <td>0</td>\n",
       "      <td>0</td>\n",
       "      <td>0</td>\n",
       "      <td>0</td>\n",
       "      <td>0</td>\n",
       "      <td>1</td>\n",
       "      <td>0</td>\n",
       "      <td>...</td>\n",
       "      <td>0</td>\n",
       "      <td>0</td>\n",
       "      <td>0</td>\n",
       "      <td>0</td>\n",
       "      <td>1</td>\n",
       "      <td>0</td>\n",
       "      <td>0</td>\n",
       "      <td>0</td>\n",
       "      <td>0</td>\n",
       "      <td>0</td>\n",
       "    </tr>\n",
       "    <tr>\n",
       "      <th>16</th>\n",
       "      <td>personality disorder</td>\n",
       "      <td>0</td>\n",
       "      <td>0</td>\n",
       "      <td>0</td>\n",
       "      <td>1</td>\n",
       "      <td>0</td>\n",
       "      <td>0</td>\n",
       "      <td>0</td>\n",
       "      <td>0</td>\n",
       "      <td>0</td>\n",
       "      <td>...</td>\n",
       "      <td>0</td>\n",
       "      <td>0</td>\n",
       "      <td>0</td>\n",
       "      <td>0</td>\n",
       "      <td>0</td>\n",
       "      <td>1</td>\n",
       "      <td>0</td>\n",
       "      <td>0</td>\n",
       "      <td>1</td>\n",
       "      <td>0</td>\n",
       "    </tr>\n",
       "    <tr>\n",
       "      <th>17</th>\n",
       "      <td>pneumonia</td>\n",
       "      <td>0</td>\n",
       "      <td>0</td>\n",
       "      <td>0</td>\n",
       "      <td>0</td>\n",
       "      <td>0</td>\n",
       "      <td>0</td>\n",
       "      <td>0</td>\n",
       "      <td>0</td>\n",
       "      <td>0</td>\n",
       "      <td>...</td>\n",
       "      <td>0</td>\n",
       "      <td>0</td>\n",
       "      <td>0</td>\n",
       "      <td>0</td>\n",
       "      <td>0</td>\n",
       "      <td>0</td>\n",
       "      <td>0</td>\n",
       "      <td>1</td>\n",
       "      <td>0</td>\n",
       "      <td>1</td>\n",
       "    </tr>\n",
       "    <tr>\n",
       "      <th>18</th>\n",
       "      <td>pneumothorax</td>\n",
       "      <td>0</td>\n",
       "      <td>0</td>\n",
       "      <td>0</td>\n",
       "      <td>1</td>\n",
       "      <td>0</td>\n",
       "      <td>0</td>\n",
       "      <td>0</td>\n",
       "      <td>0</td>\n",
       "      <td>0</td>\n",
       "      <td>...</td>\n",
       "      <td>0</td>\n",
       "      <td>0</td>\n",
       "      <td>0</td>\n",
       "      <td>0</td>\n",
       "      <td>0</td>\n",
       "      <td>0</td>\n",
       "      <td>0</td>\n",
       "      <td>0</td>\n",
       "      <td>0</td>\n",
       "      <td>0</td>\n",
       "    </tr>\n",
       "    <tr>\n",
       "      <th>19</th>\n",
       "      <td>respiratory failure</td>\n",
       "      <td>0</td>\n",
       "      <td>0</td>\n",
       "      <td>0</td>\n",
       "      <td>0</td>\n",
       "      <td>0</td>\n",
       "      <td>0</td>\n",
       "      <td>0</td>\n",
       "      <td>0</td>\n",
       "      <td>0</td>\n",
       "      <td>...</td>\n",
       "      <td>1</td>\n",
       "      <td>0</td>\n",
       "      <td>0</td>\n",
       "      <td>0</td>\n",
       "      <td>0</td>\n",
       "      <td>0</td>\n",
       "      <td>0</td>\n",
       "      <td>0</td>\n",
       "      <td>0</td>\n",
       "      <td>0</td>\n",
       "    </tr>\n",
       "  </tbody>\n",
       "</table>\n",
       "<p>20 rows × 157 columns</p>\n",
       "</div>"
      ],
      "text/plain": [
       "                    Source  abdominal tenderness  abscess bacterial  ache  \\\n",
       "0      Alzheimer's disease                     0                  0     0   \n",
       "1                      HIV                     0                  0     0   \n",
       "2                   anemia                     0                  0     0   \n",
       "3                arthritis                     0                  0     0   \n",
       "4                   asthma                     0                  0     0   \n",
       "5   coronary heart disease                     0                  0     0   \n",
       "6              dehydration                     0                  0     0   \n",
       "7        depression mental                     0                  0     0   \n",
       "8                 diabetes                     0                  0     0   \n",
       "9           failure kidney                     0                  0     0   \n",
       "10             hepatitis B                     1                  0     0   \n",
       "11             hepatitis C                     0                  0     1   \n",
       "12                  hernia                     0                  0     0   \n",
       "13               infection                     0                  1     0   \n",
       "14      migraine disorders                     0                  0     0   \n",
       "15            pancreatitis                     0                  0     0   \n",
       "16    personality disorder                     0                  0     0   \n",
       "17               pneumonia                     0                  0     0   \n",
       "18            pneumothorax                     0                  0     0   \n",
       "19     respiratory failure                     0                  0     0   \n",
       "\n",
       "    agitation  ambidexterity  angina pectoris  anorexia  apyrexial  \\\n",
       "0           1              0                0         0          0   \n",
       "1           0              0                0         0          0   \n",
       "2           0              0                0         0          0   \n",
       "3           0              0                0         0          0   \n",
       "4           0              0                0         0          0   \n",
       "5           0              0                1         0          0   \n",
       "6           0              0                0         1          0   \n",
       "7           1              0                0         0          0   \n",
       "8           0              0                0         0          0   \n",
       "9           0              0                0         0          0   \n",
       "10          0              0                0         0          0   \n",
       "11          0              0                0         0          0   \n",
       "12          0              0                0         0          1   \n",
       "13          0              0                0         0          1   \n",
       "14          0              1                0         0          0   \n",
       "15          0              0                0         0          1   \n",
       "16          1              0                0         0          0   \n",
       "17          0              0                0         0          0   \n",
       "18          1              0                0         0          0   \n",
       "19          0              0                0         0          0   \n",
       "\n",
       "    arthralgia  ...  unresponsiveness  unwell  verbal auditory hallucinations  \\\n",
       "0            0  ...                 0       0                               0   \n",
       "1            0  ...                 0       0                               0   \n",
       "2            1  ...                 0       0                               0   \n",
       "3            0  ...                 0       0                               0   \n",
       "4            0  ...                 0       0                               0   \n",
       "5            0  ...                 0       0                               0   \n",
       "6            0  ...                 0       1                               0   \n",
       "7            0  ...                 0       0                               1   \n",
       "8            0  ...                 1       0                               0   \n",
       "9            0  ...                 1       0                               0   \n",
       "10           0  ...                 0       0                               0   \n",
       "11           0  ...                 0       0                               0   \n",
       "12           0  ...                 0       0                               0   \n",
       "13           0  ...                 0       0                               0   \n",
       "14           0  ...                 0       0                               0   \n",
       "15           0  ...                 0       0                               0   \n",
       "16           0  ...                 0       0                               0   \n",
       "17           0  ...                 0       0                               0   \n",
       "18           0  ...                 0       0                               0   \n",
       "19           0  ...                 1       0                               0   \n",
       "\n",
       "    vertigo  vomiting  weepiness  wheelchair bound  wheezing  worry  \\\n",
       "0         0         0          0                 1         0      0   \n",
       "1         0         0          0                 0         0      0   \n",
       "2         0         0          0                 0         0      0   \n",
       "3         0         0          0                 0         0      0   \n",
       "4         0         0          0                 0         1      0   \n",
       "5         0         0          0                 0         0      0   \n",
       "6         0         1          0                 0         0      0   \n",
       "7         0         0          1                 0         0      1   \n",
       "8         1         1          0                 0         0      0   \n",
       "9         0         0          0                 0         0      0   \n",
       "10        0         0          0                 1         0      0   \n",
       "11        0         0          0                 0         0      0   \n",
       "12        0         0          0                 0         0      0   \n",
       "13        0         0          0                 0         0      0   \n",
       "14        0         1          0                 0         0      0   \n",
       "15        0         1          0                 0         0      0   \n",
       "16        0         0          1                 0         0      1   \n",
       "17        0         0          0                 0         1      0   \n",
       "18        0         0          0                 0         0      0   \n",
       "19        0         0          0                 0         0      0   \n",
       "\n",
       "    yellow sputum  \n",
       "0               0  \n",
       "1               0  \n",
       "2               0  \n",
       "3               0  \n",
       "4               0  \n",
       "5               0  \n",
       "6               0  \n",
       "7               0  \n",
       "8               0  \n",
       "9               0  \n",
       "10              1  \n",
       "11              0  \n",
       "12              0  \n",
       "13              0  \n",
       "14              0  \n",
       "15              0  \n",
       "16              0  \n",
       "17              1  \n",
       "18              0  \n",
       "19              0  \n",
       "\n",
       "[20 rows x 157 columns]"
      ]
     },
     "execution_count": 17,
     "metadata": {},
     "output_type": "execute_result"
    }
   ],
   "source": [
    "dataset_pre = dataset_pre.groupby('Source').sum().reset_index()\n",
    "dataset_pre"
   ]
  },
  {
   "cell_type": "code",
   "execution_count": 18,
   "metadata": {
    "colab": {
     "base_uri": "https://localhost:8080/",
     "height": 35
    },
    "colab_type": "code",
    "id": "upT77eKcZHZ8",
    "outputId": "4200bea4-f99f-4c1d-fa12-d9f62fead10f"
   },
   "outputs": [
    {
     "name": "stdout",
     "output_type": "stream",
     "text": [
      "157 20\n"
     ]
    }
   ],
   "source": [
    "print(len(dataset_pre.columns),len(dataset_pre['Source']))"
   ]
  },
  {
   "cell_type": "code",
   "execution_count": 19,
   "metadata": {
    "colab": {
     "base_uri": "https://localhost:8080/",
     "height": 1000
    },
    "colab_type": "code",
    "id": "YVZRh3-_ZN_U",
    "outputId": "ef90efda-7aff-4aa8-f41b-c1d0146322d5"
   },
   "outputs": [
    {
     "name": "stdout",
     "output_type": "stream",
     "text": [
      "abdominal tenderness\n",
      "abscess bacterial\n",
      "ache\n",
      "agitation\n",
      "ambidexterity\n",
      "angina pectoris\n",
      "anorexia\n",
      "apyrexial\n",
      "arthralgia\n",
      "ascites\n",
      "asterixis\n",
      "asthenia\n",
      "atypia\n",
      "bedridden\n",
      "blackout\n",
      "breath sounds decreased\n",
      "bruit\n",
      "cardiovascular event\n",
      "cardiovascular finding\n",
      "chest tightness\n",
      "chill\n",
      "consciousness clear\n",
      "cough\n",
      "decreased body weight\n",
      "decreased translucency\n",
      "diarrhea\n",
      "difficulty\n",
      "distended abdomen\n",
      "distress respiratory\n",
      "dizziness\n",
      "drool\n",
      "dyspnea\n",
      "dyspnea on exertion\n",
      "ecchymosis\n",
      "energy increased\n",
      "enuresis\n",
      "erythema\n",
      "excruciating pain\n",
      "extreme exhaustion\n",
      "facial paresis\n",
      "fatigue\n",
      "feeling hopeless\n",
      "feeling suicidal\n",
      "fever\n",
      "food intolerance\n",
      "frail\n",
      "gag\n",
      "general unsteadiness\n",
      "green sputum\n",
      "groggy\n",
      "guaiac positive\n",
      "haemoptysis\n",
      "haemorrhage\n",
      "hallucinations auditory\n",
      "hallucinations visual\n",
      "heavy feeling\n",
      "heme positive\n",
      "hemiplegia\n",
      "hemodynamically stable\n",
      "hepatosplenomegaly\n",
      "history of - blackout\n",
      "homelessness\n",
      "hypercapnia\n",
      "hyperkalemia\n",
      "hyperventilation\n",
      "hypokinesia\n",
      "hyponatremia\n",
      "hypotension\n",
      "hypotonic\n",
      "inappropriate affect\n",
      "intoxication\n",
      "irritable mood\n",
      "labored breathing\n",
      "lesion\n",
      "lethargy\n",
      "lightheadedness\n",
      "macerated skin\n",
      "malaise\n",
      "mass of body structure\n",
      "mental status changes\n",
      "moan\n",
      "monoclonal\n",
      "mood depressed\n",
      "motor retardation\n",
      "muscle hypotonia\n",
      "muscle twitch\n",
      "nausea\n",
      "nausea and vomiting\n",
      "nervousness\n",
      "night sweat\n",
      "nightmare\n",
      "no status change\n",
      "non-productive cough\n",
      "numbness\n",
      "oliguria\n",
      "orthopnea\n",
      "orthostasis\n",
      "pain\n",
      "pain abdominal\n",
      "pain back\n",
      "pain chest\n",
      "pallor\n",
      "patient non compliance\n",
      "pin-point pupils\n",
      "pleuritic pain\n",
      "polydypsia\n",
      "polyuria\n",
      "poor feeding\n",
      "posturing\n",
      "pressure chest\n",
      "productive cough\n",
      "projectile vomiting\n",
      "prostatism\n",
      "pruritus\n",
      "pulse absent\n",
      "rale\n",
      "redness\n",
      "rhonchus\n",
      "rigor - temperature-associated observation\n",
      "scratch marks\n",
      "sensory discomfort\n",
      "shortness of breath\n",
      "side pain\n",
      "sinus rhythm\n",
      "sleeplessness\n",
      "slowing of urinary stream\n",
      "snore\n",
      "soft tissue swelling\n",
      "sore to touch\n",
      "splenomegaly\n",
      "spontaneous rupture of membranes\n",
      "stool color yellow\n",
      "suicidal\n",
      "sweat\n",
      "sweating increased\n",
      "swelling\n",
      "symptom aggravating factors\n",
      "syncope\n",
      "tachypnea\n",
      "thicken\n",
      "transaminitis\n",
      "transsexual\n",
      "tremor\n",
      "tremor resting\n",
      "tumor cell invasion\n",
      "unable to concentrate\n",
      "unresponsiveness\n",
      "unwell\n",
      "verbal auditory hallucinations\n",
      "vertigo\n",
      "vomiting\n",
      "weepiness\n",
      "wheelchair bound\n",
      "wheezing\n",
      "worry\n",
      "yellow sputum\n"
     ]
    }
   ],
   "source": [
    "for i in dataset_pre.columns[1:]:\n",
    "  print(i)"
   ]
  },
  {
   "cell_type": "code",
   "execution_count": 20,
   "metadata": {
    "colab": {},
    "colab_type": "code",
    "id": "x2yyVa7ua-0p"
   },
   "outputs": [],
   "source": [
    "y = dataset_pre['Source']\n",
    "x = dataset_pre.drop(['Source'],axis=1)"
   ]
  },
  {
   "cell_type": "markdown",
   "metadata": {
    "colab_type": "text",
    "id": "jHH_PW5KfVYw"
   },
   "source": [
    "# Splitting the data for testing"
   ]
  },
  {
   "cell_type": "code",
   "execution_count": 21,
   "metadata": {
    "colab": {},
    "colab_type": "code",
    "id": "M4YxHXqHbW-q"
   },
   "outputs": [],
   "source": [
    "from sklearn.model_selection import train_test_split\n",
    "x_train,x_test,y_train,y_test = train_test_split(x,y,test_size=0.2,random_state=42)"
   ]
  },
  {
   "cell_type": "markdown",
   "metadata": {
    "colab_type": "text",
    "id": "X4nBAy-Cfm-N"
   },
   "source": [
    "# Importing Models"
   ]
  },
  {
   "cell_type": "code",
   "execution_count": 22,
   "metadata": {
    "colab": {},
    "colab_type": "code",
    "id": "G1t3VUJ0bY4L"
   },
   "outputs": [],
   "source": [
    "from sklearn.ensemble import RandomForestClassifier\n",
    "from sklearn.svm import SVC\n",
    "from sklearn.linear_model import LogisticRegression\n",
    "from sklearn.neural_network import MLPClassifier"
   ]
  },
  {
   "cell_type": "code",
   "execution_count": 23,
   "metadata": {
    "colab": {},
    "colab_type": "code",
    "id": "3K9lrJ7_cNec"
   },
   "outputs": [],
   "source": [
    "from sklearn.metrics import confusion_matrix, recall_score, precision_score"
   ]
  },
  {
   "cell_type": "markdown",
   "metadata": {
    "colab_type": "text",
    "id": "Rj-2Ew5Hfpvq"
   },
   "source": [
    "# Random Forest Classifier"
   ]
  },
  {
   "cell_type": "code",
   "execution_count": 24,
   "metadata": {
    "colab": {
     "base_uri": "https://localhost:8080/",
     "height": 191
    },
    "colab_type": "code",
    "id": "Kjo62LyFbvsX",
    "outputId": "9efae76b-9ffd-4b69-c948-05d38a3e89c4"
   },
   "outputs": [
    {
     "name": "stderr",
     "output_type": "stream",
     "text": [
      "[Parallel(n_jobs=1)]: Using backend SequentialBackend with 1 concurrent workers.\n",
      "[Parallel(n_jobs=1)]: Done 200 out of 200 | elapsed:    0.1s finished\n"
     ]
    },
    {
     "data": {
      "text/plain": [
       "RandomForestClassifier(bootstrap=True, ccp_alpha=0.0, class_weight=None,\n",
       "                       criterion='gini', max_depth=None, max_features='auto',\n",
       "                       max_leaf_nodes=None, max_samples=None,\n",
       "                       min_impurity_decrease=0.0, min_impurity_split=None,\n",
       "                       min_samples_leaf=1, min_samples_split=2,\n",
       "                       min_weight_fraction_leaf=0.0, n_estimators=200,\n",
       "                       n_jobs=None, oob_score=False, random_state=0, verbose=1,\n",
       "                       warm_start=False)"
      ]
     },
     "execution_count": 24,
     "metadata": {},
     "output_type": "execute_result"
    }
   ],
   "source": [
    "model_rf = RandomForestClassifier(n_estimators=200,random_state=0,verbose=1)\n",
    "model_rf.fit(x,y)"
   ]
  },
  {
   "cell_type": "code",
   "execution_count": 25,
   "metadata": {
    "colab": {
     "base_uri": "https://localhost:8080/",
     "height": 69
    },
    "colab_type": "code",
    "id": "NAhXodJScDlm",
    "outputId": "c832b103-9dc5-46a6-a0ec-d4b7e66faf1f"
   },
   "outputs": [
    {
     "name": "stderr",
     "output_type": "stream",
     "text": [
      "[Parallel(n_jobs=1)]: Using backend SequentialBackend with 1 concurrent workers.\n",
      "[Parallel(n_jobs=1)]: Done 200 out of 200 | elapsed:    0.0s finished\n"
     ]
    },
    {
     "data": {
      "text/plain": [
       "1.0"
      ]
     },
     "execution_count": 25,
     "metadata": {},
     "output_type": "execute_result"
    }
   ],
   "source": [
    "model_rf.score(x_test,y_test)"
   ]
  },
  {
   "cell_type": "code",
   "execution_count": 26,
   "metadata": {
    "colab": {
     "base_uri": "https://localhost:8080/",
     "height": 208
    },
    "colab_type": "code",
    "id": "4RQcLPYuca6C",
    "outputId": "7ee7e469-f065-471e-842c-c04e8e715838"
   },
   "outputs": [
    {
     "name": "stdout",
     "output_type": "stream",
     "text": [
      "Confusion matrix:-\n",
      "[[1 0 0 0]\n",
      " [0 1 0 0]\n",
      " [0 0 1 0]\n",
      " [0 0 0 1]]\n",
      "Recall:-\n",
      "[1. 1. 1. 1.]\n",
      "Precision:-\n",
      "[1. 1. 1. 1.]\n"
     ]
    },
    {
     "name": "stderr",
     "output_type": "stream",
     "text": [
      "[Parallel(n_jobs=1)]: Using backend SequentialBackend with 1 concurrent workers.\n",
      "[Parallel(n_jobs=1)]: Done 200 out of 200 | elapsed:    0.0s finished\n"
     ]
    }
   ],
   "source": [
    "y_pred = model_rf.predict(x_test)\n",
    "print('Confusion matrix:-')\n",
    "print(confusion_matrix(y_test,y_pred))\n",
    "print('Recall:-')\n",
    "print(recall_score(y_test,y_pred,average=None))\n",
    "print('Precision:-')\n",
    "print(precision_score(y_test,y_pred,average=None))"
   ]
  },
  {
   "cell_type": "markdown",
   "metadata": {
    "colab_type": "text",
    "id": "u_3E7Nb0f1OY"
   },
   "source": [
    "# MLP Classifier - Neural Net"
   ]
  },
  {
   "cell_type": "code",
   "execution_count": 27,
   "metadata": {
    "colab": {
     "base_uri": "https://localhost:8080/",
     "height": 780
    },
    "colab_type": "code",
    "id": "E4w-9X1ycoaP",
    "outputId": "def39ebf-f022-445a-f3dd-e78b4e032ebe"
   },
   "outputs": [
    {
     "name": "stdout",
     "output_type": "stream",
     "text": [
      "Iteration 1, loss = 3.02322113\n",
      "Iteration 2, loss = 2.81994146\n",
      "Iteration 3, loss = 2.65358735\n",
      "Iteration 4, loss = 2.48199466\n",
      "Iteration 5, loss = 2.28711252\n",
      "Iteration 6, loss = 2.05894939\n",
      "Iteration 7, loss = 1.79893675\n",
      "Iteration 8, loss = 1.51556368\n",
      "Iteration 9, loss = 1.22554462\n",
      "Iteration 10, loss = 0.94402992\n",
      "Iteration 11, loss = 0.68436712\n",
      "Iteration 12, loss = 0.45879243\n",
      "Iteration 13, loss = 0.27762911\n",
      "Iteration 14, loss = 0.15069489\n",
      "Iteration 15, loss = 0.07472413\n",
      "Iteration 16, loss = 0.03629290\n",
      "Iteration 17, loss = 0.01899612\n",
      "Iteration 18, loss = 0.01152539\n",
      "Iteration 19, loss = 0.00820086\n",
      "Iteration 20, loss = 0.00654740\n",
      "Iteration 21, loss = 0.00556170\n",
      "Iteration 22, loss = 0.00489650\n",
      "Iteration 23, loss = 0.00442847\n",
      "Iteration 24, loss = 0.00410096\n",
      "Iteration 25, loss = 0.00387276\n",
      "Iteration 26, loss = 0.00371828\n",
      "Iteration 27, loss = 0.00361487\n",
      "Iteration 28, loss = 0.00354597\n",
      "Iteration 29, loss = 0.00350021\n",
      "Iteration 30, loss = 0.00346895\n",
      "Iteration 31, loss = 0.00344689\n",
      "Iteration 32, loss = 0.00343076\n",
      "Iteration 33, loss = 0.00341839\n",
      "Iteration 34, loss = 0.00340860\n",
      "Iteration 35, loss = 0.00340053\n",
      "Iteration 36, loss = 0.00339359\n",
      "Iteration 37, loss = 0.00338740\n",
      "Iteration 38, loss = 0.00338180\n",
      "Training loss did not improve more than tol=0.000100 for 10 consecutive epochs. Stopping.\n"
     ]
    },
    {
     "data": {
      "text/plain": [
       "MLPClassifier(activation='relu', alpha=0.0001, batch_size='auto', beta_1=0.9,\n",
       "              beta_2=0.999, early_stopping=False, epsilon=1e-08,\n",
       "              hidden_layer_sizes=(592, 444, 296, 148), learning_rate='constant',\n",
       "              learning_rate_init=0.001, max_fun=15000, max_iter=100,\n",
       "              momentum=0.9, n_iter_no_change=10, nesterovs_momentum=True,\n",
       "              power_t=0.5, random_state=None, shuffle=True, solver='adam',\n",
       "              tol=0.0001, validation_fraction=0.1, verbose=1, warm_start=False)"
      ]
     },
     "execution_count": 27,
     "metadata": {},
     "output_type": "execute_result"
    }
   ],
   "source": [
    "model_nn = MLPClassifier(hidden_layer_sizes=(592,444,296,148),verbose=1,solver='adam',max_iter=100) \n",
    "model_nn.fit(x,y)"
   ]
  },
  {
   "cell_type": "code",
   "execution_count": 28,
   "metadata": {
    "colab": {
     "base_uri": "https://localhost:8080/",
     "height": 35
    },
    "colab_type": "code",
    "id": "GSb-LXGqd1X8",
    "outputId": "4b67df73-d870-4de2-d395-06015bcd38ea"
   },
   "outputs": [
    {
     "data": {
      "text/plain": [
       "1.0"
      ]
     },
     "execution_count": 28,
     "metadata": {},
     "output_type": "execute_result"
    }
   ],
   "source": [
    "model_nn.score(x_test,y_test)"
   ]
  },
  {
   "cell_type": "code",
   "execution_count": 29,
   "metadata": {
    "colab": {
     "base_uri": "https://localhost:8080/",
     "height": 173
    },
    "colab_type": "code",
    "id": "ZNE6KaKUeJ5H",
    "outputId": "cc1f9368-f059-4761-b9d9-f1664b25b655"
   },
   "outputs": [
    {
     "name": "stdout",
     "output_type": "stream",
     "text": [
      "Confusion matrix:-\n",
      "[[1 0 0 0]\n",
      " [0 1 0 0]\n",
      " [0 0 1 0]\n",
      " [0 0 0 1]]\n",
      "Recall:-\n",
      "[1. 1. 1. 1.]\n",
      "Precision:-\n",
      "[1. 1. 1. 1.]\n"
     ]
    }
   ],
   "source": [
    "y_pred = model_nn.predict(x_test)\n",
    "print('Confusion matrix:-')\n",
    "print(confusion_matrix(y_test,y_pred))\n",
    "print('Recall:-')\n",
    "print(recall_score(y_test,y_pred,average=None))\n",
    "print('Precision:-')\n",
    "print(precision_score(y_test,y_pred,average=None))"
   ]
  },
  {
   "cell_type": "markdown",
   "metadata": {
    "colab_type": "text",
    "id": "_N7gu4G9f6Uy"
   },
   "source": [
    "# Logistic Regression"
   ]
  },
  {
   "cell_type": "code",
   "execution_count": 30,
   "metadata": {
    "colab": {
     "base_uri": "https://localhost:8080/",
     "height": 139
    },
    "colab_type": "code",
    "id": "nIch7TUceMtN",
    "outputId": "6845c7e3-9694-48e8-c357-559c6089cddf"
   },
   "outputs": [
    {
     "name": "stderr",
     "output_type": "stream",
     "text": [
      "[Parallel(n_jobs=1)]: Using backend SequentialBackend with 1 concurrent workers.\n",
      "[Parallel(n_jobs=1)]: Done   1 out of   1 | elapsed:    0.0s finished\n"
     ]
    },
    {
     "data": {
      "text/plain": [
       "LogisticRegression(C=1.0, class_weight=None, dual=False, fit_intercept=True,\n",
       "                   intercept_scaling=1, l1_ratio=None, max_iter=100,\n",
       "                   multi_class='auto', n_jobs=None, penalty='l2',\n",
       "                   random_state=None, solver='lbfgs', tol=0.0001, verbose=1,\n",
       "                   warm_start=False)"
      ]
     },
     "execution_count": 30,
     "metadata": {},
     "output_type": "execute_result"
    }
   ],
   "source": [
    "model_lr = LogisticRegression(verbose=1)\n",
    "model_lr.fit(x,y)"
   ]
  },
  {
   "cell_type": "code",
   "execution_count": 31,
   "metadata": {
    "colab": {
     "base_uri": "https://localhost:8080/",
     "height": 35
    },
    "colab_type": "code",
    "id": "bFgrnDBCecUW",
    "outputId": "3ed26be2-d6a0-4fdf-e802-5d1d532a1cb5"
   },
   "outputs": [
    {
     "data": {
      "text/plain": [
       "1.0"
      ]
     },
     "execution_count": 31,
     "metadata": {},
     "output_type": "execute_result"
    }
   ],
   "source": [
    "model_lr.score(x_test,y_test)"
   ]
  },
  {
   "cell_type": "code",
   "execution_count": 32,
   "metadata": {
    "colab": {
     "base_uri": "https://localhost:8080/",
     "height": 173
    },
    "colab_type": "code",
    "id": "B37tV-ocekLP",
    "outputId": "1ebc36ed-faf2-4801-ff9b-af5077dff8e0"
   },
   "outputs": [
    {
     "name": "stdout",
     "output_type": "stream",
     "text": [
      "Confusion matrix:-\n",
      "[[1 0 0 0]\n",
      " [0 1 0 0]\n",
      " [0 0 1 0]\n",
      " [0 0 0 1]]\n",
      "Recall:-\n",
      "[1. 1. 1. 1.]\n",
      "Precision:-\n",
      "[1. 1. 1. 1.]\n"
     ]
    }
   ],
   "source": [
    "y_pred = model_lr.predict(x_test)\n",
    "print('Confusion matrix:-')\n",
    "print(confusion_matrix(y_test,y_pred))\n",
    "print('Recall:-')\n",
    "print(recall_score(y_test,y_pred,average=None))\n",
    "print('Precision:-')\n",
    "print(precision_score(y_test,y_pred,average=None))"
   ]
  },
  {
   "cell_type": "markdown",
   "metadata": {
    "colab_type": "text",
    "id": "ovnOKjpif-_0"
   },
   "source": [
    "# SV Classifier"
   ]
  },
  {
   "cell_type": "code",
   "execution_count": 33,
   "metadata": {
    "colab": {
     "base_uri": "https://localhost:8080/",
     "height": 87
    },
    "colab_type": "code",
    "id": "UCr6YjxVepRu",
    "outputId": "c0f3eb21-7038-44e2-cdfa-7a294226745b"
   },
   "outputs": [
    {
     "name": "stdout",
     "output_type": "stream",
     "text": [
      "[LibSVM]"
     ]
    },
    {
     "data": {
      "text/plain": [
       "SVC(C=1.0, break_ties=False, cache_size=200, class_weight=None, coef0=0.0,\n",
       "    decision_function_shape='ovr', degree=3, gamma='scale', kernel='rbf',\n",
       "    max_iter=-1, probability=False, random_state=None, shrinking=True,\n",
       "    tol=0.001, verbose=True)"
      ]
     },
     "execution_count": 33,
     "metadata": {},
     "output_type": "execute_result"
    }
   ],
   "source": [
    "model_svc = SVC(verbose=True)\n",
    "model_svc.fit(x,y)"
   ]
  },
  {
   "cell_type": "code",
   "execution_count": 34,
   "metadata": {
    "colab": {
     "base_uri": "https://localhost:8080/",
     "height": 35
    },
    "colab_type": "code",
    "id": "IrNNmQf3e0dn",
    "outputId": "08805076-7c5d-4e1d-d35f-620c3a24f494"
   },
   "outputs": [
    {
     "data": {
      "text/plain": [
       "1.0"
      ]
     },
     "execution_count": 34,
     "metadata": {},
     "output_type": "execute_result"
    }
   ],
   "source": [
    "model_svc.score(x_test,y_test)"
   ]
  },
  {
   "cell_type": "code",
   "execution_count": 35,
   "metadata": {
    "colab": {
     "base_uri": "https://localhost:8080/",
     "height": 173
    },
    "colab_type": "code",
    "id": "NkA3YqsgfJ5F",
    "outputId": "36499ae8-eafe-49ce-da5f-bd06a0df610f"
   },
   "outputs": [
    {
     "name": "stdout",
     "output_type": "stream",
     "text": [
      "Confusion matrix:-\n",
      "[[1 0 0 0]\n",
      " [0 1 0 0]\n",
      " [0 0 1 0]\n",
      " [0 0 0 1]]\n",
      "Recall:-\n",
      "[1. 1. 1. 1.]\n",
      "Precision:-\n",
      "[1. 1. 1. 1.]\n"
     ]
    }
   ],
   "source": [
    "y_pred = model_svc.predict(x_test)\n",
    "print('Confusion matrix:-')\n",
    "print(confusion_matrix(y_test,y_pred))\n",
    "print('Recall:-')\n",
    "print(recall_score(y_test,y_pred,average=None))\n",
    "print('Precision:-')\n",
    "print(precision_score(y_test,y_pred,average=None))"
   ]
  },
  {
   "cell_type": "code",
   "execution_count": null,
   "metadata": {},
   "outputs": [],
   "source": []
  }
 ],
 "metadata": {
  "colab": {
   "name": "Disease_Model_20.ipynb",
   "provenance": []
  },
  "kernelspec": {
   "display_name": "Python 3",
   "language": "python",
   "name": "python3"
  },
  "language_info": {
   "codemirror_mode": {
    "name": "ipython",
    "version": 3
   },
   "file_extension": ".py",
   "mimetype": "text/x-python",
   "name": "python",
   "nbconvert_exporter": "python",
   "pygments_lexer": "ipython3",
   "version": "3.7.4"
  }
 },
 "nbformat": 4,
 "nbformat_minor": 1
}
